version https://git-lfs.github.com/spec/v1
oid sha256:21b04d27e64349b15217ff9db65c02192334b080fbf13c253f4fded1640e9c38
size 4986303
