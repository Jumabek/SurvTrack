version https://git-lfs.github.com/spec/v1
oid sha256:8003012ac31e5a60cfdb360c77decedcc5486d3098c7507b9a0825298dae9893
size 495332
